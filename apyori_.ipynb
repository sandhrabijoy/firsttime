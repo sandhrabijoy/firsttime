{
  "nbformat": 4,
  "nbformat_minor": 0,
  "metadata": {
    "colab": {
      "provenance": [],
      "mount_file_id": "1p2gc6NVjqH3GN3z7GPxu75C0I7hqiA0w",
      "authorship_tag": "ABX9TyNvYALADzljpqOW4QzqcWDM",
      "include_colab_link": true
    },
    "kernelspec": {
      "name": "python3",
      "display_name": "Python 3"
    },
    "language_info": {
      "name": "python"
    }
  },
  "cells": [
    {
      "cell_type": "markdown",
      "metadata": {
        "id": "view-in-github",
        "colab_type": "text"
      },
      "source": [
        "<a href=\"https://colab.research.google.com/github/sandhrabijoy/practice/blob/main/apyori_.ipynb\" target=\"_parent\"><img src=\"https://colab.research.google.com/assets/colab-badge.svg\" alt=\"Open In Colab\"/></a>"
      ]
    },
    {
      "cell_type": "code",
      "source": [
        "from google.colab import drive\n",
        "drive.mount('/content/drive')"
      ],
      "metadata": {
        "colab": {
          "base_uri": "https://localhost:8080/"
        },
        "id": "qu_a5R32xLpt",
        "outputId": "f0bcf0d2-2e2c-4e1f-d17c-900572a28a7f"
      },
      "execution_count": null,
      "outputs": [
        {
          "output_type": "stream",
          "name": "stdout",
          "text": [
            "Drive already mounted at /content/drive; to attempt to forcibly remount, call drive.mount(\"/content/drive\", force_remount=True).\n"
          ]
        }
      ]
    },
    {
      "cell_type": "code",
      "source": [
        "!pip install apyori\n",
        "import pandas as pd\n",
        "import numpy as np\n",
        "from apyori import apriori"
      ],
      "metadata": {
        "colab": {
          "base_uri": "https://localhost:8080/"
        },
        "id": "k9y8RjOyxnDl",
        "outputId": "924ccc7e-2e2b-44a8-c19c-9697a9b8279f"
      },
      "execution_count": null,
      "outputs": [
        {
          "output_type": "stream",
          "name": "stdout",
          "text": [
            "Looking in indexes: https://pypi.org/simple, https://us-python.pkg.dev/colab-wheels/public/simple/\n",
            "Collecting apyori\n",
            "  Downloading apyori-1.1.2.tar.gz (8.6 kB)\n",
            "  Preparing metadata (setup.py) ... \u001b[?25l\u001b[?25hdone\n",
            "Building wheels for collected packages: apyori\n",
            "  Building wheel for apyori (setup.py) ... \u001b[?25l\u001b[?25hdone\n",
            "  Created wheel for apyori: filename=apyori-1.1.2-py3-none-any.whl size=5973 sha256=40b4ad6f5d9fa94b01f6e98c607c8e282a8636249b69ac88cd1f71e978ebec45\n",
            "  Stored in directory: /root/.cache/pip/wheels/1b/02/6c/a45230be8603bd95c0a51cd2b289aefdd860c1a100eab73661\n",
            "Successfully built apyori\n",
            "Installing collected packages: apyori\n",
            "Successfully installed apyori-1.1.2\n"
          ]
        }
      ]
    },
    {
      "cell_type": "code",
      "source": [
        "import numpy as np\n",
        "import matplotlib.pyplot as plt\n",
        "import pandas as pd\n",
        "from apyori import apriori\n",
        "\n",
        "Data= pd.read_csv('/content/drive/MyDrive/DM LAb/groceries.csv', header = None)\n",
        "records = []\n",
        "for i in range(0, 7501):\n",
        "    records.append([str(Data.values[i,j]) for j in range(0, 20)])\n",
        "\n",
        "rule = apriori(transactions = records, min_support = 0.005, min_confidence = 0.2, min_lift = 3, min_length = 2, max_length = 2)\n",
        "results = list(rule)\n",
        "\n",
        "for item in results:\n",
        "\n",
        "    # first index of the inner list\n",
        "    # Contains base item and add item\n",
        "    pair = item[0]\n",
        "    items = [x for x in pair]\n",
        "    print(\"Rule: \" + \"LHS[\"+items[0] +\"]\"+ \" -> \" + \"RHS[\"+items[1]+\"]\")\n",
        "\n",
        "    #second index of the inner list\n",
        "    print(\"Support: \" + str(item[1]))\n",
        "\n",
        "    #third index of the list located at 0th\n",
        "    #of the third index of the inner list\n",
        "\n",
        "    print(\"Confidence: \" + str(item[2][0][2]))\n",
        "    print(\"Lift: \" + str(item[2][0][3]))\n",
        "    print(\"=====================================\")"
      ],
      "metadata": {
        "id": "LQSyxpQZyEMj",
        "colab": {
          "base_uri": "https://localhost:8080/"
        },
        "outputId": "01293a6a-ab7a-4326-8151-489172b62dea"
      },
      "execution_count": null,
      "outputs": [
        {
          "output_type": "stream",
          "name": "stdout",
          "text": [
            "Rule: LHS[whipped/sour cream] -> RHS[baking powder]\n",
            "Support: 0.005065991201173177\n",
            "Confidence: 0.2835820895522388\n",
            "Lift: 3.8816592221374875\n",
            "=====================================\n",
            "Rule: LHS[root vegetables] -> RHS[beef]\n",
            "Support: 0.01759765364618051\n",
            "Confidence: 0.3464566929133858\n",
            "Lift: 3.1348270850944595\n",
            "=====================================\n",
            "Rule: LHS[whipped/sour cream] -> RHS[berries]\n",
            "Support: 0.007732302359685375\n",
            "Confidence: 0.25\n",
            "Lift: 3.4219890510948905\n",
            "=====================================\n",
            "Rule: LHS[flour] -> RHS[sugar]\n",
            "Support: 0.005065991201173177\n",
            "Confidence: 0.28787878787878785\n",
            "Lift: 8.63751515151515\n",
            "=====================================\n",
            "Rule: LHS[grapes] -> RHS[tropical fruit]\n",
            "Support: 0.005999200106652446\n",
            "Confidence: 0.32608695652173914\n",
            "Lift: 3.1040333259766055\n",
            "=====================================\n",
            "Rule: LHS[white bread] -> RHS[ham]\n",
            "Support: 0.005332622317024397\n",
            "Confidence: 0.20833333333333331\n",
            "Lift: 4.8231738683127565\n",
            "=====================================\n",
            "Rule: LHS[root vegetables] -> RHS[herbs]\n",
            "Support: 0.006532462338354886\n",
            "Confidence: 0.40495867768595045\n",
            "Lift: 3.6641677217398243\n",
            "=====================================\n",
            "Rule: LHS[sausage] -> RHS[sliced cheese]\n",
            "Support: 0.006932409012131715\n",
            "Confidence: 0.30057803468208094\n",
            "Lift: 3.239419307687197\n",
            "=====================================\n"
          ]
        }
      ]
    },
    {
      "cell_type": "code",
      "source": [
        "import numpy as np\n",
        "import matplotlib.pyplot as plt\n",
        "import pandas as pd\n",
        "Data = pd.read_csv('/content/drive/MyDrive/DM LAb/groceries.csv', header = None)\n",
        "records = []\n",
        "for i in range(0, 7501):\n",
        "    records.append([str(Data.values[i,j]) for j in range(0, 20)])\n",
        "from apyori import apriori\n",
        "rule = apriori(transactions = records, min_support = 0.005, min_confidence = 0.1, min_lift = 3, min_length = 2, max_length = 2)\n",
        "results = list(rule)\n",
        "results_list = []\n",
        "for i in range(0, len(results)):\n",
        "    results_list.append('RULE: ' + str(list(results[i][0])) + '  SUPPORT:  ' + str(results[i][1]) )\n",
        "results_list"
      ],
      "metadata": {
        "colab": {
          "base_uri": "https://localhost:8080/"
        },
        "id": "6P7Ovcvj0dqh",
        "outputId": "44b684bd-4332-40c9-8551-25583cc0aed0"
      },
      "execution_count": null,
      "outputs": [
        {
          "output_type": "execute_result",
          "data": {
            "text/plain": [
              "[\"RULE: ['whipped/sour cream', 'baking powder']  SUPPORT:  0.005065991201173177\",\n",
              " \"RULE: ['root vegetables', 'beef']  SUPPORT:  0.01759765364618051\",\n",
              " \"RULE: ['whipped/sour cream', 'berries']  SUPPORT:  0.007732302359685375\",\n",
              " \"RULE: ['frozen vegetables', 'chicken']  SUPPORT:  0.006532462338354886\",\n",
              " \"RULE: ['chocolate', 'long life bakery product']  SUPPORT:  0.005199306759098787\",\n",
              " \"RULE: ['chocolate', 'waffles']  SUPPORT:  0.005332622317024397\",\n",
              " \"RULE: ['flour', 'sugar']  SUPPORT:  0.005065991201173177\",\n",
              " \"RULE: ['grapes', 'tropical fruit']  SUPPORT:  0.005999200106652446\",\n",
              " \"RULE: ['white bread', 'ham']  SUPPORT:  0.005332622317024397\",\n",
              " \"RULE: ['root vegetables', 'herbs']  SUPPORT:  0.006532462338354886\",\n",
              " \"RULE: ['napkins', 'hygiene articles']  SUPPORT:  0.005599253432875617\",\n",
              " \"RULE: ['sausage', 'sliced cheese']  SUPPORT:  0.006932409012131715\"]"
            ]
          },
          "metadata": {},
          "execution_count": 8
        }
      ]
    }
  ]
}